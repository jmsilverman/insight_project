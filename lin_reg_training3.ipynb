{
 "cells": [
  {
   "cell_type": "markdown",
   "metadata": {},
   "source": [
    "# Linear Regression Model Training\n",
    "### Read in features and labels\n",
    "### Do some multivariate linear regression\n",
    "### See how good the fits are\n",
    "### Make some plots of the final WhereSIOUS scores & print some stats"
   ]
  },
  {
   "cell_type": "code",
   "execution_count": null,
   "metadata": {
    "collapsed": true
   },
   "outputs": [],
   "source": [
    "# imports\n",
    "import matplotlib.pyplot as plt\n",
    "import numpy as np\n",
    "import pandas as pd\n",
    "import statsmodels.formula.api as smf\n",
    "from scipy.stats.stats import pearsonr\n",
    "from sklearn import cross_validation\n",
    "\n",
    "%matplotlib inline"
   ]
  },
  {
   "cell_type": "code",
   "execution_count": null,
   "metadata": {
    "collapsed": true
   },
   "outputs": [],
   "source": [
    "# define extra bit for filenames for codes w/ # businesses >3000 (equivalently >2100)\n",
    "extras = ['54','81','45','62','56','44','72','53']\n",
    "# add codes w/ # businesses <2100 & >500\n",
    "#extras = [extras, ]'42','23','48','61','71','52','51','33']\n",
    "# add codes w/ # businesses <500 & >50\n",
    "#extras = [extras, '32','31','49','55','11']\n",
    "# add codes w/ # businesses <50\n",
    "#extras = [extras, '22','92','21']\n",
    "\n",
    "# pick which code to look at\n",
    "i = 0\n",
    "extra = '_'+extras[i]"
   ]
  },
  {
   "cell_type": "code",
   "execution_count": null,
   "metadata": {
    "collapsed": false
   },
   "outputs": [],
   "source": [
    "# save min/max of business age\n",
    "bus_ages = pd.read_csv('data_final/sd_active_businesses_cleaned.csv')\n",
    "# use only current business code\n",
    "bus_ages = bus_ages[bus_ages.naics_code_simple==float(extras[i])]\n",
    "# drop tract 9902 (mostly SD Harbor, not much land) is always best tract, w/ only 3 quite old businesses (10-30 yr)\n",
    "bus_ages = bus_ages[bus_ages.census_tract != 9902]\n",
    "\n",
    "# get median ages in each tract\n",
    "med_ages = bus_ages.groupby('census_tract').median().days_since_creation\n",
    "bus_age_min = min(med_ages)/365.\n",
    "bus_age_max = max(med_ages)/365.\n",
    "print bus_age_min\n",
    "print bus_age_max"
   ]
  },
  {
   "cell_type": "code",
   "execution_count": null,
   "metadata": {
    "collapsed": false
   },
   "outputs": [],
   "source": [
    "# read in features and labels/examples (see build_features_labels2.ipynb for more info)\n",
    "features = pd.read_csv('data_final/features'+extra+'.csv')\n",
    "print features.shape\n",
    "print features.columns\n",
    "features[-100:]"
   ]
  },
  {
   "cell_type": "markdown",
   "metadata": {},
   "source": [
    "## Fit w/ all input features (using statsmodels)"
   ]
  },
  {
   "cell_type": "code",
   "execution_count": null,
   "metadata": {
    "collapsed": false
   },
   "outputs": [],
   "source": [
    "# fit the data\n",
    "#   + to use feature\n",
    "#   - to remove feature\n",
    "#   : to multiply 2 features\n",
    "#   * to multiply 2 features *and* use both individually\n",
    "#   C(<feature>) to make <feature> into dummy/categorical feature\n",
    "formula_str = 'bus_age ~ n_business - n_businesses_11 - n_businesses_21 - n_businesses_22 ' \\\n",
    "                '- n_businesses_23 - n_businesses_31 - n_businesses_32 - n_businesses_33 - n_businesses_42 ' \\\n",
    "                '- n_businesses_44 - n_businesses_45 - n_businesses_48 - n_businesses_49 - n_businesses_51 ' \\\n",
    "                '- n_businesses_52 - n_businesses_53 - n_businesses_54 - n_businesses_55 - n_businesses_56 ' \\\n",
    "                '- n_businesses_61 - n_businesses_62 - n_businesses_71 - n_businesses_72 - n_businesses_81 ' \\\n",
    "                '- n_businesses_92 + population - population_percent_male + population_percent_female + age_med ' \\\n",
    "                '- age_med_male - age_med_female - minor_percent + adult_percent + homes - homes_percent_mortgage '\\\n",
    "                '- homes_percent_clear - homes_percent_rent + employment_percent + income_med - income_med_owner '\\\n",
    "                '- income_med_renter + cost_med - cost_med_owner - cost_med_renter + walk_score + transit_score '\\\n",
    "                '+ bike_score - total_amount'\n",
    "#                '+ n_business:population + n_businesses_11:population + n_businesses_21:population + n_businesses_22:population ' \\\n",
    "#                '+ n_businesses_23:population + n_businesses_31:population + n_businesses_32:population + n_businesses_33:population + n_businesses_42:population ' \\\n",
    "#                '+ n_businesses_44:population + n_businesses_45:population + n_businesses_48:population + n_businesses_49:population + n_businesses_51:population ' \\\n",
    "#                '+ n_businesses_52:population + n_businesses_53:population + n_businesses_54:population + n_businesses_55:population + n_businesses_56:population ' \\\n",
    "#                '+ n_businesses_61:population + n_businesses_62:population + n_businesses_71:population + n_businesses_72:population + n_businesses_81:population ' \\\n",
    "#                '+ n_businesses_92:population'\n",
    "#                '+ n_business:homes + n_businesses_11:homes + n_businesses_21:homes + n_businesses_22:homes ' \\\n",
    "#                '+ n_businesses_23:homes + n_businesses_31:homes + n_businesses_32:homes + n_businesses_33:homes + n_businesses_42:homes ' \\\n",
    "#                '+ n_businesses_44:homes + n_businesses_45:homes + n_businesses_48:homes + n_businesses_49:homes + n_businesses_51:homes ' \\\n",
    "#                '+ n_businesses_52:homes + n_businesses_53:homes + n_businesses_54:homes + n_businesses_55:homes + n_businesses_56:homes ' \\\n",
    "#                '+ n_businesses_61:homes + n_businesses_62:homes + n_businesses_71:homes + n_businesses_72:homes + n_businesses_81:homes ' \\\n",
    "#                '+ n_businesses_92:homes'\n",
    "#                '+ n_business:income_med + n_businesses_11:income_med + n_businesses_21:income_med + n_businesses_22:income_med ' \\\n",
    "#                '+ n_businesses_23:income_med + n_businesses_31:income_med + n_businesses_32:income_med + n_businesses_33:income_med + n_businesses_42:income_med ' \\\n",
    "#                '+ n_businesses_44:income_med + n_businesses_45:income_med + n_businesses_48:income_med + n_businesses_49:income_med + n_businesses_51:income_med ' \\\n",
    "#                '+ n_businesses_52:income_med + n_businesses_53:income_med + n_businesses_54:income_med + n_businesses_55:income_med + n_businesses_56:income_med ' \\\n",
    "#                '+ n_businesses_61:income_med + n_businesses_62:income_med + n_businesses_71:income_med + n_businesses_72:income_med + n_businesses_81:income_med ' \\\n",
    "#                '+ n_businesses_92:income_med'\n",
    "#                '+ n_business:cost_med + n_businesses_11:cost_med + n_businesses_21:cost_med + n_businesses_22:cost_med ' \\\n",
    "#                '+ n_businesses_23:cost_med + n_businesses_31:cost_med + n_businesses_32:cost_med + n_businesses_33:cost_med + n_businesses_42:cost_med ' \\\n",
    "#                '+ n_businesses_44:cost_med + n_businesses_45:cost_med + n_businesses_48:cost_med + n_businesses_49:cost_med + n_businesses_51:cost_med ' \\\n",
    "#                '+ n_businesses_52:cost_med + n_businesses_53:cost_med + n_businesses_54:cost_med + n_businesses_55:cost_med + n_businesses_56:cost_med ' \\\n",
    "#                '+ n_businesses_61:cost_med + n_businesses_62:cost_med + n_businesses_71:cost_med + n_businesses_72:cost_med + n_businesses_81:cost_med ' \\\n",
    "#                '+ n_businesses_92:cost_med'\n",
    "#                '+ n_business:walk_score + n_businesses_11:walk_score + n_businesses_21:walk_score + n_businesses_22:walk_score ' \\\n",
    "#                '+ n_businesses_23:walk_score + n_businesses_31:walk_score + n_businesses_32:walk_score + n_businesses_33:walk_score + n_businesses_42:walk_score ' \\\n",
    "#                '+ n_businesses_44:walk_score + n_businesses_45:walk_score + n_businesses_48:walk_score + n_businesses_49:walk_score + n_businesses_51:walk_score ' \\\n",
    "#                '+ n_businesses_52:walk_score + n_businesses_53:walk_score + n_businesses_54:walk_score + n_businesses_55:walk_score + n_businesses_56:walk_score ' \\\n",
    "#                '+ n_businesses_61:walk_score + n_businesses_62:walk_score + n_businesses_71:walk_score + n_businesses_72:walk_score + n_businesses_81:walk_score ' \\\n",
    "#                '+ n_businesses_92:walk_score'\n",
    "model = smf.ols(formula=formula_str, data=features).fit()\n",
    "\n",
    "print len(model.params)\n",
    "# print the coefficients\n",
    "model.params"
   ]
  },
  {
   "cell_type": "code",
   "execution_count": null,
   "metadata": {
    "collapsed": false
   },
   "outputs": [],
   "source": [
    "# RMSE of model\n",
    "pred = model.predict(features).values * (bus_age_max-bus_age_min) + bus_age_min\n",
    "actual = features.bus_age.values * (bus_age_max-bus_age_min) + bus_age_min\n",
    "RMSE = np.sqrt(np.sum((pred-actual)**2)/len(features))\n",
    "print RMSE\n",
    "\n",
    "# print a summary of the model\n",
    "model.summary()"
   ]
  },
  {
   "cell_type": "markdown",
   "metadata": {},
   "source": [
    "## Leave One Out Cross-Validation"
   ]
  },
  {
   "cell_type": "code",
   "execution_count": null,
   "metadata": {
    "collapsed": false
   },
   "outputs": [],
   "source": [
    "# define LOO for looping purposes\n",
    "loo = cross_validation.LeaveOneOut(len(features))\n",
    "\n",
    "# initialize resulting RMSE\n",
    "RMSE_loo = []\n",
    "\n",
    "# go through each example as the hold-out\n",
    "for train_index, test_index in loo:\n",
    "    # train model\n",
    "    model_loo = smf.ols(formula=formula_str, data=features.loc[train_index]).fit()\n",
    "    # get result from hold-out\n",
    "    prediction = model_loo.predict(features.loc[test_index])\n",
    "    # rescale to actual years\n",
    "    pred = prediction.values * (bus_age_max-bus_age_min) + bus_age_min\n",
    "    actual = features.loc[test_index].bus_age.values * (bus_age_max-bus_age_min) + bus_age_min\n",
    "    # save current result \n",
    "    RMSE_loo.append((abs(pred-actual))[0])\n",
    "\n",
    "# take mean of all results\n",
    "RMSE_loo_arr = np.array(RMSE_loo)\n",
    "print \"LOOCV (median): \" + str(np.median(RMSE_loo_arr))\n",
    "loocv = RMSE_loo_arr.mean()\n",
    "print \"LOOCV = \" + str(loocv)"
   ]
  },
  {
   "cell_type": "markdown",
   "metadata": {},
   "source": [
    "## Predict new ages for all census tracts"
   ]
  },
  {
   "cell_type": "code",
   "execution_count": null,
   "metadata": {
    "collapsed": false
   },
   "outputs": [],
   "source": [
    "# read in features and labels/examples (see build_features_labels2.ipynb for more info)\n",
    "features_all = pd.read_csv('data_final/features.csv')\n",
    "features_all = features_all.drop('n_businesses_11', 1)\n",
    "features_all = features_all.drop('n_businesses_21', 1)\n",
    "features_all = features_all.drop('n_businesses_22', 1)\n",
    "features_all = features_all.drop('n_businesses_23', 1)\n",
    "features_all = features_all.drop('n_businesses_31', 1)\n",
    "features_all = features_all.drop('n_businesses_32', 1)\n",
    "features_all = features_all.drop('n_businesses_33', 1)\n",
    "features_all = features_all.drop('n_businesses_42', 1)\n",
    "features_all = features_all.drop('n_businesses_44', 1)\n",
    "features_all = features_all.drop('n_businesses_45', 1)\n",
    "features_all = features_all.drop('n_businesses_48', 1)\n",
    "features_all = features_all.drop('n_businesses_49', 1)\n",
    "features_all = features_all.drop('n_businesses_51', 1)\n",
    "features_all = features_all.drop('n_businesses_52', 1)\n",
    "features_all = features_all.drop('n_businesses_53', 1)\n",
    "features_all = features_all.drop('n_businesses_54', 1)\n",
    "features_all = features_all.drop('n_businesses_55', 1)\n",
    "features_all = features_all.drop('n_businesses_56', 1)\n",
    "features_all = features_all.drop('n_businesses_61', 1)\n",
    "features_all = features_all.drop('n_businesses_62', 1)\n",
    "features_all = features_all.drop('n_businesses_71', 1)\n",
    "features_all = features_all.drop('n_businesses_72', 1)\n",
    "features_all = features_all.drop('n_businesses_81', 1)\n",
    "features_all = features_all.drop('n_businesses_92', 1)\n",
    "print features_all.shape\n",
    "print features_all.columns\n",
    "features_all[-90:-20]"
   ]
  },
  {
   "cell_type": "code",
   "execution_count": null,
   "metadata": {
    "collapsed": false
   },
   "outputs": [],
   "source": [
    "# make predictions for this code for all tracts\n",
    "bus_age_pred_final = model.predict(features_all)\n",
    "tracts_final = features_all.census_tract.values\n",
    "\n",
    "# recalc model output ages\n",
    "bus_age_pred = model.predict(features)\n",
    "#print bus_age_pred[:20]\n",
    "#print bus_age_pred_final[:20]"
   ]
  },
  {
   "cell_type": "code",
   "execution_count": null,
   "metadata": {
    "collapsed": false
   },
   "outputs": [],
   "source": [
    "# check stuff that will be saved\n",
    "print tracts_final.shape\n",
    "#print tracts_final[:400]\n",
    "print bus_age_pred_final.shape\n",
    "#bus_age_pred_final[:400]"
   ]
  },
  {
   "cell_type": "markdown",
   "metadata": {},
   "source": [
    "## Plot ages, model output ages, and model output ages for adding a business to each tract/code combo"
   ]
  },
  {
   "cell_type": "code",
   "execution_count": null,
   "metadata": {
    "collapsed": false
   },
   "outputs": [],
   "source": [
    "# make histogram of scaled ages input and output and final output (for each business/tract combo)\n",
    "plt.figure(figsize=(13, 10))\n",
    "plt.hist([bus_age_pred_final,bus_age_pred,features.bus_age], bins=30, histtype='step', align='mid', linewidth=2, \\\n",
    "         label=['Predicted Ages for all Tracts','Model Predicted Ages','Actual Ages'])\n",
    "plt.legend(loc=0,fontsize=20)\n",
    "plt.grid()\n",
    "plt.tick_params(axis='both', which='major', labelsize=25)\n",
    "plt.xlabel('Scaled Age',fontsize=35)\n",
    "plt.ylabel('# of Census Tracts',fontsize=35)\n",
    "\n",
    "# unscale actual busisness ages\n",
    "t1 = features.bus_age * (bus_age_max-bus_age_min) + bus_age_min\n",
    "# unscale predicted busisness ages\n",
    "t2 = bus_age_pred * (bus_age_max-bus_age_min) + bus_age_min\n",
    "\n",
    "plt.figure(figsize=(13, 10))\n",
    "plt.hist([t2,t1], bins=25, histtype='step', align='mid', linewidth=2, \\\n",
    "         label=['Model Predicted Ages','Actual Ages'])\n",
    "plt.legend(loc=0,fontsize=20)\n",
    "plt.grid()\n",
    "plt.tick_params(axis='both', which='major', labelsize=25)\n",
    "plt.xlabel('Median Age of Business in Years',fontsize=35)\n",
    "plt.ylabel('# of Neighborhoods',fontsize=35)\n",
    "\n",
    "# print some stats about the model output\n",
    "print features.bus_age.shape\n",
    "print bus_age_pred.shape\n",
    "print np.mean(bus_age_pred)\n",
    "print np.median(bus_age_pred)\n",
    "print np.std(bus_age_pred)\n",
    "print\n",
    "\n",
    "# print some stats about the model output for each tract/code combo\n",
    "print bus_age_pred_final.shape\n",
    "print np.mean(bus_age_pred_final)\n",
    "print np.median(bus_age_pred_final)\n",
    "print np.std(bus_age_pred_final)"
   ]
  },
  {
   "cell_type": "markdown",
   "metadata": {},
   "source": [
    "## Save newly made lists of tract/code combos and scores and diff to dataframes"
   ]
  },
  {
   "cell_type": "code",
   "execution_count": null,
   "metadata": {
    "collapsed": false
   },
   "outputs": [],
   "source": [
    "# scale ages to 0 to 100 to get WhereSIOUS score\n",
    "print min(bus_age_pred_final)\n",
    "print max(bus_age_pred_final)\n",
    "score = 100 * (bus_age_pred_final-min(bus_age_pred_final)) / (max(bus_age_pred_final)-min(bus_age_pred_final))\n",
    "print min(score)\n",
    "print max(score)\n",
    "\n",
    "# scale scores again with a logistic function to spread them out more evenly\n",
    "score = score/(1+3/np.std(score)*np.exp(-2/np.std(score)*(score-np.mean(score))))\n",
    "print min(score)\n",
    "print max(score)\n",
    "\n",
    "# save lists of tracts and final predicted ages as a dataframe\n",
    "df_ages = pd.DataFrame({'census_tract': tracts_final, 'score': score})\n",
    "print df_ages.shape\n",
    "#print df_ages[:538]"
   ]
  },
  {
   "cell_type": "code",
   "execution_count": null,
   "metadata": {
    "collapsed": false
   },
   "outputs": [],
   "source": [
    "# write dataframe of tracts, codes, and scores to csv in data_final folder and in flask static folder\n",
    "df_ages.to_csv('data_final/tracts_scores'+extra+'.csv')\n",
    "df_ages.to_csv('wheresious/static/tracts_scores'+extra+'.csv')"
   ]
  },
  {
   "cell_type": "markdown",
   "metadata": {},
   "source": [
    "## Make a histogram and do some stats on the WhereSIOUS scores"
   ]
  },
  {
   "cell_type": "code",
   "execution_count": null,
   "metadata": {
    "collapsed": false
   },
   "outputs": [],
   "source": [
    "# make histogram of scores scaled 0 to 100\n",
    "plt.figure(figsize=(13, 10))\n",
    "plt.hist(df_ages.score, bins=25, histtype='step', align='mid', linewidth=2, \\\n",
    "         label=['Scaled Score From Model'])\n",
    "plt.legend(loc=2,fontsize=20)\n",
    "#plt.xlim(0,100)\n",
    "plt.grid()\n",
    "plt.tick_params(axis='both', which='major', labelsize=25)\n",
    "plt.xlabel('WhereSIOUS Score',fontsize=35)\n",
    "plt.ylabel('# of Census Tracts',fontsize=35)\n",
    "\n",
    "# print some stats about model output\n",
    "mean = np.mean(df_ages.score)\n",
    "print mean\n",
    "print np.median(df_ages.score)\n",
    "std = np.std(df_ages.score)\n",
    "print std"
   ]
  },
  {
   "cell_type": "code",
   "execution_count": null,
   "metadata": {
    "collapsed": false
   },
   "outputs": [],
   "source": [
    "# get max score\n",
    "max_score = df_ages.score.max()\n",
    "print df_ages[max_score==df_ages.score.values]\n",
    "# get min score\n",
    "min_score = df_ages.score.min()\n",
    "print df_ages[min_score==df_ages.score.values]"
   ]
  },
  {
   "cell_type": "code",
   "execution_count": null,
   "metadata": {
    "collapsed": false
   },
   "outputs": [],
   "source": [
    "# read in scores for all businesses\n",
    "temp = pd.read_csv('data_final/tracts_scores.csv',index_col=0)\n",
    "\n",
    "# plot histogram of all scores\n",
    "plt.figure(figsize=(13, 10))\n",
    "plt.hist(temp.score, bins=range(0,100,4), histtype='step', align='mid', linewidth=4, \\\n",
    "         label=['Score (All)'],color='k')\n",
    "plt.text(np.mean(temp.score),38.,'all',fontsize=20)\n",
    "\n",
    "# same for each specific code we've done\n",
    "n=0\n",
    "for extra in extras:\n",
    "    temp = pd.read_csv('data_final/tracts_scores_'+extra+'.csv',index_col=0)\n",
    "    plt.hist(temp.score, bins=range(0,100,4), histtype='step', align='mid', linewidth=2, \\\n",
    "         label=['Score ('+extra+')'])\n",
    "    plt.text(np.mean(temp.score),38*((7-n)/35.+.9),extra,fontsize=20)\n",
    "    n+=1\n",
    "\n",
    "plt.legend(loc=0,fontsize=20)\n",
    "#plt.xlim(0,100)\n",
    "plt.grid()\n",
    "plt.tick_params(axis='both', which='major', labelsize=25)\n",
    "plt.xlabel('WhereSIOUS Score',fontsize=35)\n",
    "plt.ylabel('# of Census Tracts',fontsize=35)"
   ]
  },
  {
   "cell_type": "code",
   "execution_count": null,
   "metadata": {
    "collapsed": true
   },
   "outputs": [],
   "source": []
  }
 ],
 "metadata": {
  "kernelspec": {
   "display_name": "Python 2",
   "language": "python",
   "name": "python2"
  },
  "language_info": {
   "codemirror_mode": {
    "name": "ipython",
    "version": 2
   },
   "file_extension": ".py",
   "mimetype": "text/x-python",
   "name": "python",
   "nbconvert_exporter": "python",
   "pygments_lexer": "ipython2",
   "version": "2.7.11"
  }
 },
 "nbformat": 4,
 "nbformat_minor": 0
}

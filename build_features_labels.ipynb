{
 "cells": [
  {
   "cell_type": "markdown",
   "metadata": {},
   "source": [
    "# Build 5 CSV files:\n",
    "## census tracts used (i.e., with businesses in the city of SD in them)\n",
    "## labels (i.e., median number of days businesses have been open in each tract)\n",
    "## scaled labels (i.e., \"score\" from 1 to 100)\n",
    "## features for each census tract\n",
    "## scaled features (using median and stddev of each feature)"
   ]
  },
  {
   "cell_type": "code",
   "execution_count": 21,
   "metadata": {
    "collapsed": true
   },
   "outputs": [],
   "source": [
    "# imports\n",
    "import matplotlib.pyplot as plt\n",
    "import numpy as np\n",
    "import pandas as pd\n",
    "from sklearn import preprocessing\n",
    "\n",
    "%matplotlib inline"
   ]
  },
  {
   "cell_type": "code",
   "execution_count": 22,
   "metadata": {
    "collapsed": false
   },
   "outputs": [],
   "source": [
    "# define extra bit for filenames, in case of only using one NAICS code\n",
    "extras = ['all','44','45','56','62']\n",
    "i = 0\n",
    "extra = '_'+extras[i]"
   ]
  },
  {
   "cell_type": "markdown",
   "metadata": {},
   "source": [
    "## Labels"
   ]
  },
  {
   "cell_type": "code",
   "execution_count": 23,
   "metadata": {
    "collapsed": false
   },
   "outputs": [
    {
     "name": "stdout",
     "output_type": "stream",
     "text": [
      "56710\n",
      "56710\n"
     ]
    }
   ],
   "source": [
    "# read in labels (i.e., business info)\n",
    "bus_all = pd.read_csv('data_final/sd_active_businesses_cleaned.csv')\n",
    "print len(bus_all)\n",
    "# use only businesses with a given simple NAICS code\n",
    "if extras[i]!='all':\n",
    "    bus = bus_all.loc[bus_all.naics_code_simple==int(extras[i])]\n",
    "else:\n",
    "    bus = bus_all\n",
    "#bus.loc[bus.census_tract==18802]\n",
    "#bus.loc[bus.census_tract==17403]\n",
    "print len(bus)"
   ]
  },
  {
   "cell_type": "code",
   "execution_count": 24,
   "metadata": {
    "collapsed": false
   },
   "outputs": [
    {
     "name": "stdout",
     "output_type": "stream",
     "text": [
      "314\n"
     ]
    }
   ],
   "source": [
    "# get median days since creation for each tract\n",
    "tracts_age = bus.groupby('census_tract').median().days_since_creation\n",
    "tracts = tracts_age.index\n",
    "median_days_open = tracts_age.values\n",
    "# save number of census tracts with businesses (i.e., examples)\n",
    "n_examples = len(median_days_open)\n",
    "print n_examples"
   ]
  },
  {
   "cell_type": "code",
   "execution_count": 25,
   "metadata": {
    "collapsed": false
   },
   "outputs": [],
   "source": [
    "# save total # of businesses in each tract\n",
    "n_bus_all = bus_all.groupby('census_tract').count().account_key\n",
    "# save # of businesses in each tract of given simple NAICS code\n",
    "n_bus = bus.groupby('census_tract').count().account_key"
   ]
  },
  {
   "cell_type": "code",
   "execution_count": 26,
   "metadata": {
    "collapsed": true
   },
   "outputs": [],
   "source": [
    "# write unscaled labels (median days businesses have been open in each tract) to csv\n",
    "np.savetxt('data_final/labels'+extra+'.csv', median_days_open, fmt='%.1f')\n",
    "# write list of census tracts used to csv\n",
    "np.savetxt('data_final/tracts_used'+extra+'.csv', tracts, fmt='%i')"
   ]
  },
  {
   "cell_type": "code",
   "execution_count": 27,
   "metadata": {
    "collapsed": false
   },
   "outputs": [
    {
     "name": "stdout",
     "output_type": "stream",
     "text": [
      "7.77073990053\n",
      "8.19452054795\n",
      "2.51032964193\n"
     ]
    },
    {
     "data": {
      "image/png": "[encoded data removed]",
      "text/plain": [
       "<matplotlib.figure.Figure at 0x118502350>"
      ]
     },
     "metadata": {},
     "output_type": "display_data"
    }
   ],
   "source": [
    "# plot histogram of median days since creation\n",
    "plt.figure(figsize=(13, 10))\n",
    "(tracts_age/365).hist(bins=100)\n",
    "plt.xlabel('Median Years Since Creation')\n",
    "plt.ylabel('# of Census Blocks')\n",
    "print np.mean(tracts_age/365)\n",
    "print np.median(tracts_age/365)\n",
    "print np.std(tracts_age/365)"
   ]
  },
  {
   "cell_type": "code",
   "execution_count": 28,
   "metadata": {
    "collapsed": false
   },
   "outputs": [
    {
     "name": "stdout",
     "output_type": "stream",
     "text": [
      "40.652856817\n",
      "42.9416987274\n",
      "13.5583059974\n"
     ]
    },
    {
     "data": {
      "image/png": "[encoded data removed]",
      "text/plain": [
       "<matplotlib.figure.Figure at 0x116915510>"
      ]
     },
     "metadata": {},
     "output_type": "display_data"
    }
   ],
   "source": [
    "# feature scale min,max to 1,100\n",
    "score = 100*((median_days_open - np.min(median_days_open)) / \\\n",
    "             (np.max(median_days_open) - np.min(median_days_open)))\n",
    "# plot new histogram\n",
    "plt.figure(figsize=(13, 10))\n",
    "plt.hist(score,bins=100)\n",
    "plt.xlabel('Business Score')\n",
    "plt.ylabel('# of Census Blocks')\n",
    "print np.mean(score)\n",
    "print np.median(score)\n",
    "print np.std(score)"
   ]
  },
  {
   "cell_type": "code",
   "execution_count": 29,
   "metadata": {
    "collapsed": false
   },
   "outputs": [],
   "source": [
    "# write scaled labels (i.e., scores) from 1 to 100\n",
    "np.savetxt('data_final/labels_scaled'+extra+'.csv', score, fmt='%.1f')"
   ]
  },
  {
   "cell_type": "markdown",
   "metadata": {},
   "source": [
    "## Features"
   ]
  },
  {
   "cell_type": "code",
   "execution_count": 30,
   "metadata": {
    "collapsed": false
   },
   "outputs": [],
   "source": [
    "# read in features\n",
    "popl = pd.read_csv('data_final/sd_population_cleaned.csv')\n",
    "fin = pd.read_csv('data_final/sd_housing_employment_income_cleaned.csv')\n",
    "parking_meters = pd.read_csv('data_final/sd_parking_meters_cleaned.csv')\n",
    "\n",
    "# choose which features to use (per census tract)\n",
    "    # population (population)\n",
    "    # population_percent_male\n",
    "    # population_percent_female\n",
    "    # age_med (median age)\n",
    "    # age_med_male (median male age)\n",
    "    # age_med_female (median female age)\n",
    "    # minor_percent (percenage under 18)\n",
    "    # adult_percent (percentage over 18)\n",
    "    # homes (number of homes)\n",
    "    # homes_percent_mortgage (percentage of homes owne w/ mortgage)\n",
    "    # homes_percent_clear (percentage of homes owned free & clear)\n",
    "    # homes_percent_rent (percentage of homes rented)\n",
    "    # employment_percent (employment percentage)\n",
    "    # income_med (median income)\n",
    "    # income_med_owner (median income for owned homes)\n",
    "    # income_med_renter (median income for rented homes)\n",
    "    # cost_med (median housing cost)\n",
    "    # cost_med_owner (median cost for owned homes)\n",
    "    # cost_med_renter (median cost for rented homes)\n",
    "    # total_amount (parking meters)\n",
    "    # n_business (total number of businesses)\n",
    "    # n_business_code (totals number of businesses with same simple NAICS code)\n",
    "n_features = 22"
   ]
  },
  {
   "cell_type": "code",
   "execution_count": 31,
   "metadata": {
    "collapsed": false
   },
   "outputs": [
    {
     "name": "stdout",
     "output_type": "stream",
     "text": [
      "(314, 22)\n"
     ]
    },
    {
     "data": {
      "text/plain": [
       "array([[  3.02900000e+03,   5.01155000e-01,   4.98845000e-01,\n",
       "          5.03000000e+01,   4.98000000e+01,   4.98000000e+01,\n",
       "          1.81248000e-01,   8.18752000e-01,   1.39700000e+03,\n",
       "          5.89000000e+01,   2.31000000e+01,   1.80000000e+01,\n",
       "          5.46000000e+01,   1.06406000e+05,   1.15066000e+05,\n",
       "          2.78130000e+04,   1.89500000e+03,   1.92300000e+03,\n",
       "          1.83900000e+03,   0.00000000e+00,   1.33000000e+02,\n",
       "          1.33000000e+02],\n",
       "       [  1.80100000e+03,   4.69184000e-01,   5.30816000e-01,\n",
       "          4.65000000e+01,   4.55000000e+01,   4.55000000e+01,\n",
       "          1.31038000e-01,   8.68962000e-01,   1.04700000e+03,\n",
       "          3.41000000e+01,   1.11000000e+01,   5.48000000e+01,\n",
       "          6.92000000e+01,   9.79760000e+04,   1.57500000e+05,\n",
       "          4.28910000e+04,   1.33800000e+03,   2.24300000e+03,\n",
       "          9.74000000e+02,   4.16177300e+06,   1.82000000e+02,\n",
       "          1.82000000e+02],\n",
       "       [  4.20800000e+03,   5.06416000e-01,   4.93584000e-01,\n",
       "          3.96000000e+01,   4.00000000e+01,   4.00000000e+01,\n",
       "          1.15589000e-01,   8.84411000e-01,   2.41300000e+03,\n",
       "          3.27000000e+01,   9.50000000e+00,   5.78000000e+01,\n",
       "          7.50000000e+01,   7.50190000e+04,   9.60000000e+04,\n",
       "          6.01160000e+04,   1.55900000e+03,   2.02600000e+03,\n",
       "          1.44500000e+03,   1.12901080e+07,   1.84000000e+02,\n",
       "          1.84000000e+02],\n",
       "       [  4.73200000e+03,   5.19865000e-01,   4.80135000e-01,\n",
       "          3.88000000e+01,   4.09000000e+01,   4.09000000e+01,\n",
       "          5.02970000e-02,   9.49703000e-01,   3.13600000e+03,\n",
       "          2.15000000e+01,   6.60000000e+00,   7.19000000e+01,\n",
       "          7.12000000e+01,   6.16790000e+04,   1.13047000e+05,\n",
       "          5.11250000e+04,   1.39400000e+03,   2.31000000e+03,\n",
       "          1.28200000e+03,   6.84276640e+07,   4.93000000e+02,\n",
       "          4.93000000e+02],\n",
       "       [  3.66900000e+03,   5.49741000e-01,   4.50259000e-01,\n",
       "          3.55000000e+01,   3.82000000e+01,   3.82000000e+01,\n",
       "          4.76330000e-02,   9.52367000e-01,   2.28800000e+03,\n",
       "          1.22000000e+01,   3.40000000e+00,   8.44000000e+01,\n",
       "          7.54000000e+01,   6.84880000e+04,   7.99110000e+04,\n",
       "          6.76930000e+04,   1.29900000e+03,   1.87000000e+03,\n",
       "          1.25500000e+03,   4.48266390e+07,   4.80000000e+02,\n",
       "          4.80000000e+02]])"
      ]
     },
     "execution_count": 31,
     "metadata": {},
     "output_type": "execute_result"
    }
   ],
   "source": [
    "# intialize features matrix (number of businesses by number of features)\n",
    "features = np.zeros((n_examples,n_features))\n",
    "# go through each business\n",
    "for i in range(0,n_examples):\n",
    "    \n",
    "    # keep track of which feature we're saving\n",
    "    feature_num = 0\n",
    "\n",
    "    # get features from population info\n",
    "    spot = popl.loc[popl.census_tract==tracts[i]]\n",
    "    # make sure we got 1 and only 1 matching row\n",
    "    if len(spot) == 1:\n",
    "        # total population\n",
    "        features[i,feature_num] = spot.population.to_string(index=False)\n",
    "        feature_num += 1\n",
    "        # percent pop male\n",
    "        features[i,feature_num] = spot.population_percent_male.to_string(index=False)\n",
    "        feature_num += 1\n",
    "        # percent pop female\n",
    "        features[i,feature_num] = spot.population_percent_female.to_string(index=False)\n",
    "        feature_num += 1\n",
    "        # median age\n",
    "        features[i,feature_num] = spot.age_med.to_string(index=False)\n",
    "        feature_num += 1\n",
    "        # median age male\n",
    "        features[i,feature_num] = spot.age_med_male.to_string(index=False)\n",
    "        feature_num += 1\n",
    "        # median age male\n",
    "        features[i,feature_num] = spot.age_med_male.to_string(index=False)\n",
    "        feature_num += 1\n",
    "        # percentage under 18\n",
    "        features[i,feature_num] = spot.minor_percent.to_string(index=False)\n",
    "        feature_num += 1\n",
    "        # percentage over 18\n",
    "        features[i,feature_num] = spot.adult_percent.to_string(index=False)\n",
    "        feature_num += 1\n",
    "    else:\n",
    "        print(\"***PROBLEM getting population info for census tract %s\" % str(tract))\n",
    "        # account for all features missed above\n",
    "        feature_num += 8\n",
    "\n",
    "    # get features from housing, employment, income info\n",
    "    spot = fin.loc[fin.census_tract==tracts[i]]\n",
    "    # make sure we got 1 and only 1 matching row\n",
    "    if len(spot) == 1:\n",
    "        # total number of housing units\n",
    "        features[i,feature_num] = spot.homes.to_string(index=False)\n",
    "        feature_num += 1\n",
    "        # percentage of housing units owned w/ mortgage\n",
    "        features[i,feature_num] = spot.homes_percent_mortgage.to_string(index=False)\n",
    "        feature_num += 1\n",
    "        # percentage of housing units owned free & clear\n",
    "        features[i,feature_num] = spot.homes_percent_clear.to_string(index=False)\n",
    "        feature_num += 1\n",
    "        # percentage of housing units rented\n",
    "        features[i,feature_num] = spot.homes_percent_rent.to_string(index=False)\n",
    "        feature_num += 1\n",
    "        # percent population in labor force\n",
    "        features[i,feature_num] = spot.employment_percent.to_string(index=False)\n",
    "        feature_num += 1\n",
    "        # median annual household income\n",
    "        features[i,feature_num] = spot.income_med.to_string(index=False)\n",
    "        feature_num += 1\n",
    "        # median annual household income for owned houses\n",
    "        features[i,feature_num] = spot.income_med_owner.to_string(index=False)\n",
    "        feature_num += 1\n",
    "        # median annual household income for rented houses\n",
    "        features[i,feature_num] = spot.income_med_renter.to_string(index=False)\n",
    "        feature_num += 1\n",
    "        # median monthly housing cost\n",
    "        features[i,feature_num] = spot.cost_med.to_string(index=False)\n",
    "        feature_num += 1\n",
    "        # median monthly housing cost for owned homes\n",
    "        features[i,feature_num] = spot.cost_med_owner.to_string(index=False)\n",
    "        feature_num += 1\n",
    "        # median monthly housing cost for rented homes\n",
    "        features[i,feature_num] = spot.cost_med_renter.to_string(index=False)\n",
    "        feature_num += 1\n",
    "    else:\n",
    "        print(\"***PROBLEM getting financial info for census tract %s\" % str(tract))        \n",
    "        # account for all features missed above\n",
    "        feature_num += 11\n",
    "\n",
    "    # get features from parking meter info\n",
    "    spot = parking_meters.loc[parking_meters.census_tract==tracts[i]]\n",
    "    # make sure we got 1 and only 1 matching row\n",
    "    if len(spot) == 1:\n",
    "        # total amount spent on parking meters\n",
    "        features[i,feature_num] = spot.total_amount.to_string(index=False)\n",
    "        feature_num += 1\n",
    "    else:\n",
    "        #print(\"***PROBLEM getting parking meter info for census tract %s\" % str(tract))        \n",
    "        # total amount spent on parking meters\n",
    "        feature_num += 1\n",
    "\n",
    "    # total number of businesses in census tract\n",
    "    features[i,feature_num] = n_bus_all[n_bus_all.index==tracts[i]].values[0]\n",
    "    feature_num += 1\n",
    "\n",
    "    # number of businesses with same simple NAICS code in census tract\n",
    "    features[i,feature_num] = n_bus[n_bus.index==tracts[i]].values[0]\n",
    "    feature_num += 1\n",
    "\n",
    "print features.shape\n",
    "features[:5]"
   ]
  },
  {
   "cell_type": "code",
   "execution_count": 32,
   "metadata": {
    "collapsed": true
   },
   "outputs": [],
   "source": [
    "# write features to csv\n",
    "np.savetxt('data_final/features'+extra+'.csv', features, fmt='%.3f', delimiter=',')"
   ]
  },
  {
   "cell_type": "code",
   "execution_count": 33,
   "metadata": {
    "collapsed": false
   },
   "outputs": [
    {
     "name": "stdout",
     "output_type": "stream",
     "text": [
      "[  4.74004777e+03   5.06185331e-01   4.93814666e-01   3.58665605e+01\n",
      "   3.50350318e+01   3.50350318e+01   2.12788567e-01   7.84026720e-01\n",
      "   1.85514331e+03   3.91245223e+01   1.12127389e+01   4.93442675e+01\n",
      "   6.68824841e+01   7.01499650e+04   8.88942930e+04   5.49919618e+04\n",
      "   1.62904459e+03   1.84957325e+03   1.45209873e+03   2.39104931e+06\n",
      "   1.80605096e+02   1.80605096e+02]\n",
      "[  2.04408124e+03   5.47350108e-02   5.47350101e-02   8.04870898e+00\n",
      "   7.95824987e+00   7.95824987e+00   9.40958966e-02   1.03311507e-01\n",
      "   8.70537817e+02   2.06304071e+01   9.47462065e+00   2.51950717e+01\n",
      "   9.54016212e+00   3.30137651e+04   3.57995768e+04   2.76355459e+04\n",
      "   5.94292207e+02   7.07569471e+02   4.10230469e+02   1.48180359e+07\n",
      "   2.95081523e+02   2.95081523e+02]\n",
      "(314, 22)\n"
     ]
    },
    {
     "data": {
      "text/plain": [
       "array([[ -8.37074250e-01,  -9.19033566e-02,   9.19034158e-02,\n",
       "          1.79326145e+00,   1.85530341e+00,   1.85530341e+00,\n",
       "         -3.35195986e-01,   3.36122095e-01,  -5.26276174e-01,\n",
       "          9.58559741e-01,   1.25464244e+00,  -1.24406344e+00,\n",
       "         -1.28745025e+00,   1.09820964e+00,   7.31061911e-01,\n",
       "         -9.83478374e-01,   4.47516240e-01,   1.03773205e-01,\n",
       "          9.43131490e-01,  -1.61360745e-01,  -1.61328622e-01,\n",
       "         -1.61328622e-01],\n",
       "       [ -1.43783315e+00,  -6.76008476e-01,   6.76008542e-01,\n",
       "          1.32113604e+00,   1.31498361e+00,   1.31498361e+00,\n",
       "         -8.68800551e-01,   8.22127974e-01,  -9.28326485e-01,\n",
       "         -2.43549352e-01,  -1.18990361e-02,   2.16539669e-01,\n",
       "          2.42922069e-01,   8.42861605e-01,   1.91638319e+00,\n",
       "         -4.37876705e-01,  -4.89733136e-01,   5.56025617e-01,\n",
       "         -1.16543934e+00,   1.19497868e-01,   4.72718334e-03,\n",
       "          4.72718334e-03],\n",
       "       [ -2.60286999e-01,   4.21428235e-03,  -4.21422421e-03,\n",
       "          4.63855694e-01,   6.23876887e-01,   6.23876887e-01,\n",
       "         -1.03298412e+00,   9.71666011e-01,   6.40818442e-01,\n",
       "         -3.11410350e-01,  -1.80771233e-01,   3.35610574e-01,\n",
       "          8.50878195e-01,   1.47484997e-01,   1.98485782e-01,\n",
       "          1.85414764e-01,  -1.17862198e-01,   2.49341950e-01,\n",
       "         -1.73042391e-02,   6.00555888e-01,   1.15049713e-02,\n",
       "          1.15049713e-02],\n",
       "       [ -3.93710903e-03,   2.49925388e-01,  -2.49925332e-01,\n",
       "          3.64460872e-01,   7.36967078e-01,   7.36967078e-01,\n",
       "         -1.72687198e+00,   1.60365756e+00,   1.47133951e+00,\n",
       "         -8.54298327e-01,  -4.86852089e-01,   8.95243829e-01,\n",
       "          4.52562113e-01,  -2.56588879e-01,   6.74664596e-01,\n",
       "         -1.39927099e-01,  -3.95503396e-01,   6.50715965e-01,\n",
       "         -4.14641863e-01,   4.45650255e+00,   1.05867321e+00,\n",
       "          1.05867321e+00],\n",
       "       [ -5.23975148e-01,   7.95755188e-01,  -7.95755139e-01,\n",
       "         -4.55427710e-02,   3.97696504e-01,   3.97696504e-01,\n",
       "         -1.75518352e+00,   1.62944366e+00,   4.97229046e-01,\n",
       "         -1.30508924e+00,  -8.24596482e-01,   1.39137260e+00,\n",
       "          8.92806204e-01,  -5.03415761e-02,  -2.50932938e-01,\n",
       "          4.59590639e-01,  -5.55357419e-01,   2.88688990e-02,\n",
       "         -4.80458525e-01,   2.86377966e+00,   1.01461759e+00,\n",
       "          1.01461759e+00]])"
      ]
     },
     "execution_count": 33,
     "metadata": {},
     "output_type": "execute_result"
    }
   ],
   "source": [
    "# feature scale to median and stddev\n",
    "features_scaled = (features-np.mean(features,axis=0))/np.std(features,axis=0)\n",
    "print np.mean(features,axis=0)\n",
    "print np.std(features,axis=0)\n",
    "print features_scaled.shape\n",
    "features_scaled[:5]"
   ]
  },
  {
   "cell_type": "code",
   "execution_count": 34,
   "metadata": {
    "collapsed": true
   },
   "outputs": [],
   "source": [
    "# write scaled features to csv\n",
    "np.savetxt('data_final/features_scaled'+extra+'.csv', features_scaled, fmt='%.5f', delimiter=',')\n",
    "# write means and standard deviations to csv\n",
    "np.savetxt('data_final/means_stddevs'+extra+'.csv', [np.mean(features,axis=0), np.std(features,axis=0)], \\\n",
    "           fmt='%.3f', delimiter=',')"
   ]
  },
  {
   "cell_type": "code",
   "execution_count": null,
   "metadata": {
    "collapsed": true
   },
   "outputs": [],
   "source": []
  }
 ],
 "metadata": {
  "kernelspec": {
   "display_name": "Python 2",
   "language": "python",
   "name": "python2"
  },
  "language_info": {
   "codemirror_mode": {
    "name": "ipython",
    "version": 2
   },
   "file_extension": ".py",
   "mimetype": "text/x-python",
   "name": "python",
   "nbconvert_exporter": "python",
   "pygments_lexer": "ipython2",
   "version": "2.7.11"
  }
 },
 "nbformat": 4,
 "nbformat_minor": 0
}

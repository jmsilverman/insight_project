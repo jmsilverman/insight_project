{
 "cells": [
  {
   "cell_type": "markdown",
   "metadata": {},
   "source": [
    "# Build 5 CSV files:\n",
    "## census tracts used (i.e., with businesses in the city of SD in them)\n",
    "## labels (i.e., median number of days businesses have been open in each tract)\n",
    "## scaled labels (i.e., \"score\" from 1 to 100)\n",
    "## features for each census tract\n",
    "## scaled features (using median and stddev of each feature)"
   ]
  },
  {
   "cell_type": "code",
   "execution_count": 63,
   "metadata": {
    "collapsed": true
   },
   "outputs": [],
   "source": [
    "# imports\n",
    "import matplotlib.pyplot as plt\n",
    "import numpy as np\n",
    "import pandas as pd\n",
    "from sklearn import preprocessing\n",
    "\n",
    "%matplotlib inline"
   ]
  },
  {
   "cell_type": "markdown",
   "metadata": {},
   "source": [
    "## Labels"
   ]
  },
  {
   "cell_type": "code",
   "execution_count": 64,
   "metadata": {
    "collapsed": false
   },
   "outputs": [
    {
     "data": {
      "text/html": [
       "<div>\n",
       "<table border=\"1\" class=\"dataframe\">\n",
       "  <thead>\n",
       "    <tr style=\"text-align: right;\">\n",
       "      <th></th>\n",
       "      <th>account_key</th>\n",
       "      <th>doing_bus_as_name</th>\n",
       "      <th>days_since_creation</th>\n",
       "      <th>naics_code</th>\n",
       "      <th>naics_code_simple</th>\n",
       "      <th>census_tract</th>\n",
       "    </tr>\n",
       "  </thead>\n",
       "  <tbody>\n",
       "    <tr>\n",
       "      <th>30332</th>\n",
       "      <td>2016007156</td>\n",
       "      <td>TCW WATCH COMPANY</td>\n",
       "      <td>92</td>\n",
       "      <td>454112</td>\n",
       "      <td>45</td>\n",
       "      <td>18802</td>\n",
       "    </tr>\n",
       "    <tr>\n",
       "      <th>31066</th>\n",
       "      <td>2015031698</td>\n",
       "      <td>VILLAGE CAFE</td>\n",
       "      <td>456</td>\n",
       "      <td>72211</td>\n",
       "      <td>72</td>\n",
       "      <td>18802</td>\n",
       "    </tr>\n",
       "    <tr>\n",
       "      <th>31420</th>\n",
       "      <td>2014018651</td>\n",
       "      <td>DANNY S HOME HEALTH CARE INC</td>\n",
       "      <td>796</td>\n",
       "      <td>62</td>\n",
       "      <td>62</td>\n",
       "      <td>18802</td>\n",
       "    </tr>\n",
       "    <tr>\n",
       "      <th>31636</th>\n",
       "      <td>2013061971</td>\n",
       "      <td>RACHEL PECKHAM</td>\n",
       "      <td>1047</td>\n",
       "      <td>5418</td>\n",
       "      <td>54</td>\n",
       "      <td>18802</td>\n",
       "    </tr>\n",
       "    <tr>\n",
       "      <th>32083</th>\n",
       "      <td>2011017647</td>\n",
       "      <td>INTELLISPARX</td>\n",
       "      <td>1890</td>\n",
       "      <td>5141</td>\n",
       "      <td>51</td>\n",
       "      <td>18802</td>\n",
       "    </tr>\n",
       "    <tr>\n",
       "      <th>32314</th>\n",
       "      <td>2009038813</td>\n",
       "      <td>ACTIVE PROTECTION SERVICES</td>\n",
       "      <td>2444</td>\n",
       "      <td>561612</td>\n",
       "      <td>56</td>\n",
       "      <td>18802</td>\n",
       "    </tr>\n",
       "    <tr>\n",
       "      <th>32437</th>\n",
       "      <td>2009004829</td>\n",
       "      <td>RT WHOLESALE &amp; LIQUIDATION/SD LUGGAGE</td>\n",
       "      <td>2715</td>\n",
       "      <td>454112</td>\n",
       "      <td>45</td>\n",
       "      <td>18802</td>\n",
       "    </tr>\n",
       "    <tr>\n",
       "      <th>32876</th>\n",
       "      <td>2007005475</td>\n",
       "      <td>ADDAWE DIRIYE WARSAME</td>\n",
       "      <td>3400</td>\n",
       "      <td>48531</td>\n",
       "      <td>48</td>\n",
       "      <td>18802</td>\n",
       "    </tr>\n",
       "    <tr>\n",
       "      <th>33056</th>\n",
       "      <td>2006008541</td>\n",
       "      <td>DESALEGN DANTAMO</td>\n",
       "      <td>3725</td>\n",
       "      <td>48531</td>\n",
       "      <td>48</td>\n",
       "      <td>18802</td>\n",
       "    </tr>\n",
       "    <tr>\n",
       "      <th>55520</th>\n",
       "      <td>2002002530</td>\n",
       "      <td>CREATIVE PRINT SOLUTIONS INC</td>\n",
       "      <td>5290</td>\n",
       "      <td>54199</td>\n",
       "      <td>54</td>\n",
       "      <td>18802</td>\n",
       "    </tr>\n",
       "    <tr>\n",
       "      <th>55564</th>\n",
       "      <td>2001009031</td>\n",
       "      <td>INFINITE BUSINESS SOLUTIONS INC</td>\n",
       "      <td>5480</td>\n",
       "      <td>32311</td>\n",
       "      <td>32</td>\n",
       "      <td>18802</td>\n",
       "    </tr>\n",
       "    <tr>\n",
       "      <th>55926</th>\n",
       "      <td>1997007385</td>\n",
       "      <td>IGIS TECHNOLOGIES INC</td>\n",
       "      <td>7007</td>\n",
       "      <td>5415</td>\n",
       "      <td>54</td>\n",
       "      <td>18802</td>\n",
       "    </tr>\n",
       "    <tr>\n",
       "      <th>55928</th>\n",
       "      <td>1997007152</td>\n",
       "      <td>RURAL/METRO OF SAN DIEGO INC</td>\n",
       "      <td>7014</td>\n",
       "      <td>8121</td>\n",
       "      <td>81</td>\n",
       "      <td>18802</td>\n",
       "    </tr>\n",
       "    <tr>\n",
       "      <th>56125</th>\n",
       "      <td>1994006252</td>\n",
       "      <td>SHOHET CHIROPRACTIC CENTER</td>\n",
       "      <td>8082</td>\n",
       "      <td>62131</td>\n",
       "      <td>62</td>\n",
       "      <td>18802</td>\n",
       "    </tr>\n",
       "  </tbody>\n",
       "</table>\n",
       "</div>"
      ],
      "text/plain": [
       "       account_key                      doing_bus_as_name  \\\n",
       "30332   2016007156                      TCW WATCH COMPANY   \n",
       "31066   2015031698                           VILLAGE CAFE   \n",
       "31420   2014018651           DANNY S HOME HEALTH CARE INC   \n",
       "31636   2013061971                         RACHEL PECKHAM   \n",
       "32083   2011017647                           INTELLISPARX   \n",
       "32314   2009038813             ACTIVE PROTECTION SERVICES   \n",
       "32437   2009004829  RT WHOLESALE & LIQUIDATION/SD LUGGAGE   \n",
       "32876   2007005475                  ADDAWE DIRIYE WARSAME   \n",
       "33056   2006008541                       DESALEGN DANTAMO   \n",
       "55520   2002002530           CREATIVE PRINT SOLUTIONS INC   \n",
       "55564   2001009031        INFINITE BUSINESS SOLUTIONS INC   \n",
       "55926   1997007385                  IGIS TECHNOLOGIES INC   \n",
       "55928   1997007152           RURAL/METRO OF SAN DIEGO INC   \n",
       "56125   1994006252             SHOHET CHIROPRACTIC CENTER   \n",
       "\n",
       "       days_since_creation  naics_code  naics_code_simple  census_tract  \n",
       "30332                   92      454112                 45         18802  \n",
       "31066                  456       72211                 72         18802  \n",
       "31420                  796          62                 62         18802  \n",
       "31636                 1047        5418                 54         18802  \n",
       "32083                 1890        5141                 51         18802  \n",
       "32314                 2444      561612                 56         18802  \n",
       "32437                 2715      454112                 45         18802  \n",
       "32876                 3400       48531                 48         18802  \n",
       "33056                 3725       48531                 48         18802  \n",
       "55520                 5290       54199                 54         18802  \n",
       "55564                 5480       32311                 32         18802  \n",
       "55926                 7007        5415                 54         18802  \n",
       "55928                 7014        8121                 81         18802  \n",
       "56125                 8082       62131                 62         18802  "
      ]
     },
     "execution_count": 64,
     "metadata": {},
     "output_type": "execute_result"
    }
   ],
   "source": [
    "# read in labels (i.e., business info)\n",
    "bus = pd.read_csv('data_final/sd_active_businesses_cleaned.csv')\n",
    "bus.loc[bus.census_tract==18802]"
   ]
  },
  {
   "cell_type": "code",
   "execution_count": 65,
   "metadata": {
    "collapsed": false
   },
   "outputs": [
    {
     "name": "stdout",
     "output_type": "stream",
     "text": [
      "314\n"
     ]
    }
   ],
   "source": [
    "# get median days since creation for each tract\n",
    "tracts_age = bus.groupby('census_tract').median().days_since_creation\n",
    "tracts = tracts_age.index\n",
    "median_days_open = tracts_age.values\n",
    "# save number of census tracts with businesses (i.e., examples)\n",
    "n_examples = len(median_days_open)\n",
    "print n_examples"
   ]
  },
  {
   "cell_type": "code",
   "execution_count": 66,
   "metadata": {
    "collapsed": false
   },
   "outputs": [],
   "source": [
    "# save # of businesses in each tract\n",
    "n_bus = bus.groupby('census_tract').count().account_key\n",
    "#print n_bus"
   ]
  },
  {
   "cell_type": "code",
   "execution_count": 67,
   "metadata": {
    "collapsed": true
   },
   "outputs": [],
   "source": [
    "# write unscaled labels (median days businesses have been open in each tract) to csv\n",
    "np.savetxt('data_final/labels.csv', median_days_open, fmt='%.1f')\n",
    "# write list of census tracts used to csv\n",
    "np.savetxt('data_final/tracts_used.csv', tracts, fmt='%i')"
   ]
  },
  {
   "cell_type": "code",
   "execution_count": 68,
   "metadata": {
    "collapsed": false
   },
   "outputs": [
    {
     "data": {
      "text/plain": [
       "<matplotlib.text.Text at 0x1163673d0>"
      ]
     },
     "execution_count": 68,
     "metadata": {},
     "output_type": "execute_result"
    },
    {
     "data": {
      "image/png": "[encoded data removed]",
      "text/plain": [
       "<matplotlib.figure.Figure at 0x116ef9c50>"
      ]
     },
     "metadata": {},
     "output_type": "display_data"
    }
   ],
   "source": [
    "# plot histogram of median days since creation\n",
    "plt.figure(figsize=(13, 10))\n",
    "tracts_age.hist(bins=100)\n",
    "plt.xlabel('Median Days Since Creation')\n",
    "plt.ylabel('# of Census Blocks')"
   ]
  },
  {
   "cell_type": "code",
   "execution_count": 69,
   "metadata": {
    "collapsed": false
   },
   "outputs": [
    {
     "name": "stdout",
     "output_type": "stream",
     "text": [
      "40.652856817\n",
      "42.9416987274\n",
      "13.5583059974\n"
     ]
    },
    {
     "data": {
      "image/png": "[encoded data removed]",
      "text/plain": [
       "<matplotlib.figure.Figure at 0x11b4f30d0>"
      ]
     },
     "metadata": {},
     "output_type": "display_data"
    }
   ],
   "source": [
    "# feature scale min,max to 1,100\n",
    "score = 100*((median_days_open - np.min(median_days_open)) / \\\n",
    "             (np.max(median_days_open) - np.min(median_days_open)))\n",
    "# plot new histogram\n",
    "plt.figure(figsize=(13, 10))\n",
    "plt.hist(score,bins=100)\n",
    "plt.xlabel('Business Score')\n",
    "plt.ylabel('# of Census Blocks')\n",
    "print np.mean(score)\n",
    "print np.median(score)\n",
    "print np.std(score)"
   ]
  },
  {
   "cell_type": "code",
   "execution_count": 70,
   "metadata": {
    "collapsed": false
   },
   "outputs": [],
   "source": [
    "# write scaled labels (i.e., scores) from 1 to 100\n",
    "np.savetxt('data_final/labels_scaled.csv', score, fmt='%.1f')"
   ]
  },
  {
   "cell_type": "markdown",
   "metadata": {},
   "source": [
    "## Features"
   ]
  },
  {
   "cell_type": "code",
   "execution_count": 77,
   "metadata": {
    "collapsed": false
   },
   "outputs": [],
   "source": [
    "# read in features\n",
    "popl = pd.read_csv('data_final/sd_population_cleaned.csv')\n",
    "fin = pd.read_csv('data_final/sd_housing_employment_income_cleaned.csv')\n",
    "parking_meters = pd.read_csv('data_final/sd_parking_meters_cleaned.csv')\n",
    "\n",
    "# choose which features to use (per census tract)\n",
    "    # population (population)\n",
    "    # population_percent_male\n",
    "    # population_percent_female\n",
    "    # age_med (median age)\n",
    "    # age_med_male (median male age)\n",
    "    # age_med_female (median female age)\n",
    "    # minor_percent (percenage under 18)\n",
    "    # adult_percent (percentage over 18)\n",
    "    # homes (number of homes)\n",
    "    # homes_percent_mortgage (percentage of homes owne w/ mortgage)\n",
    "    # homes_percent_clear (percentage of homes owned free & clear)\n",
    "    # homes_percent_rent (percentage of homes rented)\n",
    "    # employment_percent (employment percentage)\n",
    "    # income_med (median income)\n",
    "    # income_med_owner (median income for owned homes)\n",
    "    # income_med_renter (median income for rented homes)\n",
    "    # cost_med (median housing cost)\n",
    "    # cost_med_owner (median cost for owned homes)\n",
    "    # cost_med_renter (median cost for rented homes)\n",
    "    # total_amount (parking meters)\n",
    "    # n_business (number of businesses)\n",
    "n_features = 21"
   ]
  },
  {
   "cell_type": "code",
   "execution_count": 79,
   "metadata": {
    "collapsed": false
   },
   "outputs": [
    {
     "name": "stdout",
     "output_type": "stream",
     "text": [
      "(314, 21)\n"
     ]
    },
    {
     "data": {
      "text/plain": [
       "array([[  3.02900000e+03,   5.01155000e-01,   4.98845000e-01,\n",
       "          5.03000000e+01,   4.98000000e+01,   4.98000000e+01,\n",
       "          1.81248000e-01,   8.18752000e-01,   1.39700000e+03,\n",
       "          5.89000000e+01,   2.31000000e+01,   1.80000000e+01,\n",
       "          5.46000000e+01,   1.06406000e+05,   1.15066000e+05,\n",
       "          2.78130000e+04,   1.89500000e+03,   1.92300000e+03,\n",
       "          1.83900000e+03,   0.00000000e+00,   1.33000000e+02],\n",
       "       [  1.80100000e+03,   4.69184000e-01,   5.30816000e-01,\n",
       "          4.65000000e+01,   4.55000000e+01,   4.55000000e+01,\n",
       "          1.31038000e-01,   8.68962000e-01,   1.04700000e+03,\n",
       "          3.41000000e+01,   1.11000000e+01,   5.48000000e+01,\n",
       "          6.92000000e+01,   9.79760000e+04,   1.57500000e+05,\n",
       "          4.28910000e+04,   1.33800000e+03,   2.24300000e+03,\n",
       "          9.74000000e+02,   4.16177300e+06,   1.82000000e+02],\n",
       "       [  4.20800000e+03,   5.06416000e-01,   4.93584000e-01,\n",
       "          3.96000000e+01,   4.00000000e+01,   4.00000000e+01,\n",
       "          1.15589000e-01,   8.84411000e-01,   2.41300000e+03,\n",
       "          3.27000000e+01,   9.50000000e+00,   5.78000000e+01,\n",
       "          7.50000000e+01,   7.50190000e+04,   9.60000000e+04,\n",
       "          6.01160000e+04,   1.55900000e+03,   2.02600000e+03,\n",
       "          1.44500000e+03,   1.12901080e+07,   1.84000000e+02],\n",
       "       [  4.73200000e+03,   5.19865000e-01,   4.80135000e-01,\n",
       "          3.88000000e+01,   4.09000000e+01,   4.09000000e+01,\n",
       "          5.02970000e-02,   9.49703000e-01,   3.13600000e+03,\n",
       "          2.15000000e+01,   6.60000000e+00,   7.19000000e+01,\n",
       "          7.12000000e+01,   6.16790000e+04,   1.13047000e+05,\n",
       "          5.11250000e+04,   1.39400000e+03,   2.31000000e+03,\n",
       "          1.28200000e+03,   6.84276640e+07,   4.93000000e+02],\n",
       "       [  3.66900000e+03,   5.49741000e-01,   4.50259000e-01,\n",
       "          3.55000000e+01,   3.82000000e+01,   3.82000000e+01,\n",
       "          4.76330000e-02,   9.52367000e-01,   2.28800000e+03,\n",
       "          1.22000000e+01,   3.40000000e+00,   8.44000000e+01,\n",
       "          7.54000000e+01,   6.84880000e+04,   7.99110000e+04,\n",
       "          6.76930000e+04,   1.29900000e+03,   1.87000000e+03,\n",
       "          1.25500000e+03,   4.48266390e+07,   4.80000000e+02]])"
      ]
     },
     "execution_count": 79,
     "metadata": {},
     "output_type": "execute_result"
    }
   ],
   "source": [
    "# intialize features matrix (number of businesses by number of features)\n",
    "features = np.zeros((n_examples,n_features))\n",
    "# go through each business\n",
    "for i in range(0,n_examples):\n",
    "    \n",
    "    # keep track of which feature we're saving\n",
    "    feature_num = 0\n",
    "\n",
    "    # get features from population info\n",
    "    spot = popl.loc[popl.census_tract==tracts[i]]\n",
    "    # make sure we got 1 and only 1 matching row\n",
    "    if len(spot) == 1:\n",
    "        # total population\n",
    "        features[i,feature_num] = spot.population.to_string(index=False)\n",
    "        feature_num += 1\n",
    "        # percent pop male\n",
    "        features[i,feature_num] = spot.population_percent_male.to_string(index=False)\n",
    "        feature_num += 1\n",
    "        # percent pop female\n",
    "        features[i,feature_num] = spot.population_percent_female.to_string(index=False)\n",
    "        feature_num += 1\n",
    "        # median age\n",
    "        features[i,feature_num] = spot.age_med.to_string(index=False)\n",
    "        feature_num += 1\n",
    "        # median age male\n",
    "        features[i,feature_num] = spot.age_med_male.to_string(index=False)\n",
    "        feature_num += 1\n",
    "        # median age male\n",
    "        features[i,feature_num] = spot.age_med_male.to_string(index=False)\n",
    "        feature_num += 1\n",
    "        # percentage under 18\n",
    "        features[i,feature_num] = spot.minor_percent.to_string(index=False)\n",
    "        feature_num += 1\n",
    "        # percentage over 18\n",
    "        features[i,feature_num] = spot.adult_percent.to_string(index=False)\n",
    "        feature_num += 1\n",
    "    else:\n",
    "        print(\"***PROBLEM getting population info for census tract %s\" % str(tract))\n",
    "        # account for all features missed above\n",
    "        feature_num += 8\n",
    "\n",
    "    # get features from housing, employment, income info\n",
    "    spot = fin.loc[fin.census_tract==tracts[i]]\n",
    "    # make sure we got 1 and only 1 matching row\n",
    "    if len(spot) == 1:\n",
    "        # total number of housing units\n",
    "        features[i,feature_num] = spot.homes.to_string(index=False)\n",
    "        feature_num += 1\n",
    "        # percentage of housing units owned w/ mortgage\n",
    "        features[i,feature_num] = spot.homes_percent_mortgage.to_string(index=False)\n",
    "        feature_num += 1\n",
    "        # percentage of housing units owned free & clear\n",
    "        features[i,feature_num] = spot.homes_percent_clear.to_string(index=False)\n",
    "        feature_num += 1\n",
    "        # percentage of housing units rented\n",
    "        features[i,feature_num] = spot.homes_percent_rent.to_string(index=False)\n",
    "        feature_num += 1\n",
    "        # percent population in labor force\n",
    "        features[i,feature_num] = spot.employment_percent.to_string(index=False)\n",
    "        feature_num += 1\n",
    "        # median annual household income\n",
    "        features[i,feature_num] = spot.income_med.to_string(index=False)\n",
    "        feature_num += 1\n",
    "        # median annual household income for owned houses\n",
    "        features[i,feature_num] = spot.income_med_owner.to_string(index=False)\n",
    "        feature_num += 1\n",
    "        # median annual household income for rented houses\n",
    "        features[i,feature_num] = spot.income_med_renter.to_string(index=False)\n",
    "        feature_num += 1\n",
    "        # median monthly housing cost\n",
    "        features[i,feature_num] = spot.cost_med.to_string(index=False)\n",
    "        feature_num += 1\n",
    "        # median monthly housing cost for owned homes\n",
    "        features[i,feature_num] = spot.cost_med_owner.to_string(index=False)\n",
    "        feature_num += 1\n",
    "        # median monthly housing cost for rented homes\n",
    "        features[i,feature_num] = spot.cost_med_renter.to_string(index=False)\n",
    "        feature_num += 1\n",
    "    else:\n",
    "        print(\"***PROBLEM getting financial info for census tract %s\" % str(tract))        \n",
    "        # account for all features missed above\n",
    "        feature_num += 11\n",
    "\n",
    "    # get features from parking meter info\n",
    "    spot = parking_meters.loc[parking_meters.census_tract==tracts[i]]\n",
    "    # make sure we got 1 and only 1 matching row\n",
    "    if len(spot) == 1:\n",
    "        # total amount spent on parking meters\n",
    "        features[i,feature_num] = spot.total_amount.to_string(index=False)\n",
    "        feature_num += 1\n",
    "    else:\n",
    "        #print(\"***PROBLEM getting parking meter info for census tract %s\" % str(tract))        \n",
    "        # total amount spent on parking meters\n",
    "        feature_num += 1\n",
    "\n",
    "    # number of businesses in census tract\n",
    "    features[i,feature_num] = n_bus[n_bus.index==tracts[i]].values[0]\n",
    "    feature_num += 1\n",
    "\n",
    "print features.shape\n",
    "features[:5]"
   ]
  },
  {
   "cell_type": "code",
   "execution_count": 80,
   "metadata": {
    "collapsed": true
   },
   "outputs": [],
   "source": [
    "# write features to csv\n",
    "np.savetxt('data_final/features.csv', features, fmt='%.3f', delimiter=',')"
   ]
  },
  {
   "cell_type": "code",
   "execution_count": 81,
   "metadata": {
    "collapsed": false
   },
   "outputs": [
    {
     "name": "stdout",
     "output_type": "stream",
     "text": [
      "[  4.74004777e+03   5.06185331e-01   4.93814666e-01   3.58665605e+01\n",
      "   3.50350318e+01   3.50350318e+01   2.12788567e-01   7.84026720e-01\n",
      "   1.85514331e+03   3.91245223e+01   1.12127389e+01   4.93442675e+01\n",
      "   6.68824841e+01   7.01499650e+04   8.88942930e+04   5.49919618e+04\n",
      "   1.62904459e+03   1.84957325e+03   1.45209873e+03   2.39104931e+06\n",
      "   1.80605096e+02]\n",
      "[  2.04408124e+03   5.47350108e-02   5.47350101e-02   8.04870898e+00\n",
      "   7.95824987e+00   7.95824987e+00   9.40958966e-02   1.03311507e-01\n",
      "   8.70537817e+02   2.06304071e+01   9.47462065e+00   2.51950717e+01\n",
      "   9.54016212e+00   3.30137651e+04   3.57995768e+04   2.76355459e+04\n",
      "   5.94292207e+02   7.07569471e+02   4.10230469e+02   1.48180359e+07\n",
      "   2.95081523e+02]\n",
      "(314, 21)\n"
     ]
    },
    {
     "data": {
      "text/plain": [
       "array([[ -8.37074250e-01,  -9.19033566e-02,   9.19034158e-02,\n",
       "          1.79326145e+00,   1.85530341e+00,   1.85530341e+00,\n",
       "         -3.35195986e-01,   3.36122095e-01,  -5.26276174e-01,\n",
       "          9.58559741e-01,   1.25464244e+00,  -1.24406344e+00,\n",
       "         -1.28745025e+00,   1.09820964e+00,   7.31061911e-01,\n",
       "         -9.83478374e-01,   4.47516240e-01,   1.03773205e-01,\n",
       "          9.43131490e-01,  -1.61360745e-01,  -1.61328622e-01],\n",
       "       [ -1.43783315e+00,  -6.76008476e-01,   6.76008542e-01,\n",
       "          1.32113604e+00,   1.31498361e+00,   1.31498361e+00,\n",
       "         -8.68800551e-01,   8.22127974e-01,  -9.28326485e-01,\n",
       "         -2.43549352e-01,  -1.18990361e-02,   2.16539669e-01,\n",
       "          2.42922069e-01,   8.42861605e-01,   1.91638319e+00,\n",
       "         -4.37876705e-01,  -4.89733136e-01,   5.56025617e-01,\n",
       "         -1.16543934e+00,   1.19497868e-01,   4.72718334e-03],\n",
       "       [ -2.60286999e-01,   4.21428235e-03,  -4.21422421e-03,\n",
       "          4.63855694e-01,   6.23876887e-01,   6.23876887e-01,\n",
       "         -1.03298412e+00,   9.71666011e-01,   6.40818442e-01,\n",
       "         -3.11410350e-01,  -1.80771233e-01,   3.35610574e-01,\n",
       "          8.50878195e-01,   1.47484997e-01,   1.98485782e-01,\n",
       "          1.85414764e-01,  -1.17862198e-01,   2.49341950e-01,\n",
       "         -1.73042391e-02,   6.00555888e-01,   1.15049713e-02],\n",
       "       [ -3.93710903e-03,   2.49925388e-01,  -2.49925332e-01,\n",
       "          3.64460872e-01,   7.36967078e-01,   7.36967078e-01,\n",
       "         -1.72687198e+00,   1.60365756e+00,   1.47133951e+00,\n",
       "         -8.54298327e-01,  -4.86852089e-01,   8.95243829e-01,\n",
       "          4.52562113e-01,  -2.56588879e-01,   6.74664596e-01,\n",
       "         -1.39927099e-01,  -3.95503396e-01,   6.50715965e-01,\n",
       "         -4.14641863e-01,   4.45650255e+00,   1.05867321e+00],\n",
       "       [ -5.23975148e-01,   7.95755188e-01,  -7.95755139e-01,\n",
       "         -4.55427710e-02,   3.97696504e-01,   3.97696504e-01,\n",
       "         -1.75518352e+00,   1.62944366e+00,   4.97229046e-01,\n",
       "         -1.30508924e+00,  -8.24596482e-01,   1.39137260e+00,\n",
       "          8.92806204e-01,  -5.03415761e-02,  -2.50932938e-01,\n",
       "          4.59590639e-01,  -5.55357419e-01,   2.88688990e-02,\n",
       "         -4.80458525e-01,   2.86377966e+00,   1.01461759e+00]])"
      ]
     },
     "execution_count": 81,
     "metadata": {},
     "output_type": "execute_result"
    }
   ],
   "source": [
    "# feature scale to median and stddev\n",
    "features_scaled = (features-np.mean(features,axis=0))/np.std(features,axis=0)\n",
    "print np.mean(features,axis=0)\n",
    "print np.std(features,axis=0)\n",
    "print features_scaled.shape\n",
    "features_scaled[:5]"
   ]
  },
  {
   "cell_type": "code",
   "execution_count": 82,
   "metadata": {
    "collapsed": true
   },
   "outputs": [],
   "source": [
    "# write scaled features to csv\n",
    "np.savetxt('data_final/features_scaled.csv', features_scaled, fmt='%.5f', delimiter=',')\n",
    "# write means and standard deviations to csv\n",
    "np.savetxt('data_final/means_stddevs.csv', [np.mean(features,axis=0), np.std(features,axis=0)], \\\n",
    "           fmt='%.3f', delimiter=',')"
   ]
  },
  {
   "cell_type": "code",
   "execution_count": null,
   "metadata": {
    "collapsed": true
   },
   "outputs": [],
   "source": []
  }
 ],
 "metadata": {
  "kernelspec": {
   "display_name": "Python 2",
   "language": "python",
   "name": "python2"
  },
  "language_info": {
   "codemirror_mode": {
    "name": "ipython",
    "version": 2
   },
   "file_extension": ".py",
   "mimetype": "text/x-python",
   "name": "python",
   "nbconvert_exporter": "python",
   "pygments_lexer": "ipython2",
   "version": "2.7.11"
  }
 },
 "nbformat": 4,
 "nbformat_minor": 0
}
